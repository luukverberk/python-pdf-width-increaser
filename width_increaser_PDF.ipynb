{
 "cells": [
  {
   "cell_type": "markdown",
   "id": "b8b2f630",
   "metadata": {},
   "source": [
    "## 📝 Expanding PDF Page Width with PyPDF\n",
    "\n",
    "This code enlarges the width of each page in the PDF by adding extra blank space to the right side. The original content stays untouched, and we wrap it onto a larger canvas for annotation purposes.\n",
    "\n",
    "### 🔧 How It Works\n",
    "- Each page is read and its original width measured.\n",
    "- A blank page is created with expanded width.\n",
    "- The original content is merged onto the blank canvas.\n",
    "- The new page is added to the output PDF.\n",
    "\n",
    "This technique is useful for margin notes, annotations, or layout augmentation without altering the original formatting.\n"
   ]
  },
  {
   "cell_type": "code",
   "execution_count": null,
   "id": "f34a30b1",
   "metadata": {},
   "outputs": [],
   "source": [
    "pip install pypdf #the library pypdf is needed\n"
   ]
  },
  {
   "cell_type": "code",
   "execution_count": null,
   "id": "88a383c1",
   "metadata": {},
   "outputs": [],
   "source": [
    "from pypdf import PdfReader, PdfWriter, PageObject\n"
   ]
  },
  {
   "cell_type": "code",
   "execution_count": null,
   "id": "5cd1a590",
   "metadata": {},
   "outputs": [],
   "source": [
    "reader = PdfReader(r\"your.pdf\") #refer t its path and file name (cnt + l in File Explorer)\n",
    "writer = PdfWriter()"
   ]
  },
  {
   "cell_type": "code",
   "execution_count": null,
   "id": "fad8a1ff",
   "metadata": {},
   "outputs": [],
   "source": [
    "extra_width = 72 * 10  # 2 inches extra\n",
    "\n",
    "for orig in reader.pages:\n",
    "    w, h = orig.mediabox.upper_right\n",
    "    new_w = w + extra_width\n",
    "\n",
    "    # create a blank page of new size\n",
    "    blank = PageObject.create_blank_page(width=new_w, height=h)\n",
    "\n",
    "    # merge original onto blank at (margin_left, 0) if you want left margin too:\n",
    "    blank.merge_page(orig)  # orig drawn at (0,0) by default\n",
    "\n",
    "    writer.add_page(blank)\n",
    "\n",
    "with open(\"output_other_file_test.pdf\", \"wb\") as out:\n",
    "    writer.write(out)"
   ]
  }
 ],
 "metadata": {
  "kernelspec": {
   "display_name": "env",
   "language": "python",
   "name": "python3"
  },
  "language_info": {
   "codemirror_mode": {
    "name": "ipython",
    "version": 3
   },
   "file_extension": ".py",
   "mimetype": "text/x-python",
   "name": "python",
   "nbconvert_exporter": "python",
   "pygments_lexer": "ipython3",
   "version": "3.13.5"
  }
 },
 "nbformat": 4,
 "nbformat_minor": 5
}
